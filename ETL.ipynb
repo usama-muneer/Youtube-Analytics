{
 "cells": [
  {
   "cell_type": "markdown",
   "metadata": {},
   "source": [
    "# Part I. ETL Pipeline for Pre-Processing the Files"
   ]
  },
  {
   "cell_type": "markdown",
   "metadata": {},
   "source": [
    "#### Import Python packages "
   ]
  },
  {
   "cell_type": "code",
   "execution_count": 1,
   "metadata": {},
   "outputs": [],
   "source": [
    "# Import Python packages \n",
    "import cassandra\n",
    "import pandas as pd\n",
    "import glob \n",
    "import datetime"
   ]
  },
  {
   "cell_type": "markdown",
   "metadata": {},
   "source": [
    "#### Creating list of filepaths to process original event csv data files"
   ]
  },
  {
   "cell_type": "code",
   "execution_count": 2,
   "metadata": {},
   "outputs": [],
   "source": [
    "# Write your code here\n",
    "filepaths = []\n",
    "path = 'youtube_event_data\\\\'\n",
    "filepaths = glob.glob(path+'\\\\*.csv')"
   ]
  },
  {
   "cell_type": "markdown",
   "metadata": {},
   "source": [
    "#### Processing the CSV files to create the new `youtube_events_data_new.csv` file"
   ]
  },
  {
   "cell_type": "code",
   "execution_count": 3,
   "metadata": {},
   "outputs": [
    {
     "data": {
      "text/html": [
       "<div>\n",
       "<style scoped>\n",
       "    .dataframe tbody tr th:only-of-type {\n",
       "        vertical-align: middle;\n",
       "    }\n",
       "\n",
       "    .dataframe tbody tr th {\n",
       "        vertical-align: top;\n",
       "    }\n",
       "\n",
       "    .dataframe thead th {\n",
       "        text-align: right;\n",
       "    }\n",
       "</style>\n",
       "<table border=\"1\" class=\"dataframe\">\n",
       "  <thead>\n",
       "    <tr style=\"text-align: right;\">\n",
       "      <th></th>\n",
       "      <th>youtuber</th>\n",
       "      <th>firstName</th>\n",
       "      <th>itemInSession</th>\n",
       "      <th>lastName</th>\n",
       "      <th>length</th>\n",
       "      <th>sessionId</th>\n",
       "      <th>video</th>\n",
       "      <th>userId</th>\n",
       "    </tr>\n",
       "  </thead>\n",
       "  <tbody>\n",
       "    <tr>\n",
       "      <th>0</th>\n",
       "      <td>NaN</td>\n",
       "      <td>Walter</td>\n",
       "      <td>0</td>\n",
       "      <td>Frye</td>\n",
       "      <td>NaN</td>\n",
       "      <td>38</td>\n",
       "      <td>NaN</td>\n",
       "      <td>39.0</td>\n",
       "    </tr>\n",
       "    <tr>\n",
       "      <th>1</th>\n",
       "      <td>NaN</td>\n",
       "      <td>Kaylee</td>\n",
       "      <td>0</td>\n",
       "      <td>Summers</td>\n",
       "      <td>NaN</td>\n",
       "      <td>139</td>\n",
       "      <td>NaN</td>\n",
       "      <td>8.0</td>\n",
       "    </tr>\n",
       "    <tr>\n",
       "      <th>2</th>\n",
       "      <td>Des'ree</td>\n",
       "      <td>Kaylee</td>\n",
       "      <td>1</td>\n",
       "      <td>Summers</td>\n",
       "      <td>246.30812</td>\n",
       "      <td>139</td>\n",
       "      <td>You Gotta Be</td>\n",
       "      <td>8.0</td>\n",
       "    </tr>\n",
       "    <tr>\n",
       "      <th>3</th>\n",
       "      <td>NaN</td>\n",
       "      <td>Kaylee</td>\n",
       "      <td>2</td>\n",
       "      <td>Summers</td>\n",
       "      <td>NaN</td>\n",
       "      <td>139</td>\n",
       "      <td>NaN</td>\n",
       "      <td>8.0</td>\n",
       "    </tr>\n",
       "    <tr>\n",
       "      <th>4</th>\n",
       "      <td>Mr Oizo</td>\n",
       "      <td>Kaylee</td>\n",
       "      <td>3</td>\n",
       "      <td>Summers</td>\n",
       "      <td>144.03873</td>\n",
       "      <td>139</td>\n",
       "      <td>Flat 55</td>\n",
       "      <td>8.0</td>\n",
       "    </tr>\n",
       "  </tbody>\n",
       "</table>\n",
       "</div>"
      ],
      "text/plain": [
       "  youtuber firstName  itemInSession lastName     length  sessionId  \\\n",
       "0      NaN    Walter              0     Frye        NaN         38   \n",
       "1      NaN    Kaylee              0  Summers        NaN        139   \n",
       "2  Des'ree    Kaylee              1  Summers  246.30812        139   \n",
       "3      NaN    Kaylee              2  Summers        NaN        139   \n",
       "4  Mr Oizo    Kaylee              3  Summers  144.03873        139   \n",
       "\n",
       "          video  userId  \n",
       "0           NaN    39.0  \n",
       "1           NaN     8.0  \n",
       "2  You Gotta Be     8.0  \n",
       "3           NaN     8.0  \n",
       "4       Flat 55     8.0  "
      ]
     },
     "execution_count": 3,
     "metadata": {},
     "output_type": "execute_result"
    }
   ],
   "source": [
    "# Write your code here\n",
    "youtube_events_data_new = []\n",
    "# iterate through all files and store data inside list\n",
    "for file in filepaths:\n",
    "    data = pd.read_csv(file, index_col = None, header = 0)\n",
    "    youtube_events_data_new.append(data)   \n",
    "youtube_events_data_new = pd.concat(youtube_events_data_new, axis=0, ignore_index=True)\n",
    "youtube_events_data_new.drop(['auth', 'gender', 'level', 'location', 'method', 'page', 'registration', 'status', 'ts'], axis=1, inplace=True)\n",
    "youtube_events_data_new.to_csv('youtube_events_data_new.csv')\n",
    "youtube_events_data_new.head()"
   ]
  },
  {
   "cell_type": "code",
   "execution_count": 4,
   "metadata": {},
   "outputs": [
    {
     "data": {
      "text/plain": [
       "8056"
      ]
     },
     "execution_count": 4,
     "metadata": {},
     "output_type": "execute_result"
    }
   ],
   "source": [
    "# check the number of rows in your new csv file\n",
    "youtube_events_data_new.shape[0]"
   ]
  },
  {
   "cell_type": "markdown",
   "metadata": {},
   "source": [
    "# Part II. Complete the Apache Cassandra coding portion of your project. "
   ]
  },
  {
   "cell_type": "markdown",
   "metadata": {},
   "source": [
    "**TODO: You have to complete the cell below with your `youtube_events_data_new.csv`columns and a screenshot of CSV file data**"
   ]
  },
  {
   "cell_type": "markdown",
   "metadata": {},
   "source": [
    "## The new CSV file titled `youtube_events_data_new.csv`, The event_datafile_new.csv contains the following columns: \n",
    "\n",
    "- Column 1\n",
    "- Column 2\n",
    "- Column 3\n",
    "- Column 4\n",
    ".\n",
    ".\n",
    ".\n",
    "\n",
    "\n",
    "The image below is a screenshot of what the denormalized data should appear like in the <font color=red>**youtube_events_data_new.csv**</font> after the code above is run:<br>\n",
    "\n",
    "<img src=\"images/i.png\">"
   ]
  },
  {
   "cell_type": "markdown",
   "metadata": {},
   "source": [
    "#### Creating a Cluster"
   ]
  },
  {
   "cell_type": "code",
   "execution_count": 5,
   "metadata": {},
   "outputs": [],
   "source": [
    "# Create a Cassandra Cluster\n",
    "from cassandra.cluster import Cluster\n",
    "try: \n",
    "    cluster = Cluster(['127.0.0.1']) #If you have a locally installed Apache Cassandra instance\n",
    "    session = cluster.connect()\n",
    "except Exception as e:\n",
    "    print(e)"
   ]
  },
  {
   "cell_type": "markdown",
   "metadata": {},
   "source": [
    "#### Create Keyspace `youtubedb`"
   ]
  },
  {
   "cell_type": "code",
   "execution_count": 6,
   "metadata": {},
   "outputs": [],
   "source": [
    "try:\n",
    "    session.execute(\"\"\"\n",
    "    CREATE KEYSPACE IF NOT EXISTS youtubedb \n",
    "    WITH REPLICATION = \n",
    "    { 'class' : 'SimpleStrategy', 'replication_factor' : 1 }\"\"\"\n",
    ")\n",
    "\n",
    "except Exception as e:\n",
    "    print(e)"
   ]
  },
  {
   "cell_type": "markdown",
   "metadata": {},
   "source": [
    "#### Set Keyspace `youtubedb`"
   ]
  },
  {
   "cell_type": "code",
   "execution_count": 7,
   "metadata": {},
   "outputs": [],
   "source": [
    "try:\n",
    "    session.set_keyspace('youtubedb')\n",
    "except Exception as e:\n",
    "    print(e)"
   ]
  },
  {
   "cell_type": "markdown",
   "metadata": {},
   "source": [
    "## Create queries to ask the following three questions of the data\n",
    "\n",
    "1. Give me the youtuber, video title and video's length in the YouTube app history that was heard during  sessionId = 338, and itemInSession  = 4\n",
    "\n",
    "\n",
    "2. Give me only the following: name of youtuber, video (sorted by itemInSession) and user (first and last name) for userid = 10, sessionid = 182\n",
    "    \n",
    "\n",
    "3. Give me every user name (first and last) in my YouTube app history who watched the video 'All Hands Against His Own'"
   ]
  },
  {
   "cell_type": "markdown",
   "metadata": {},
   "source": []
  },
  {
   "cell_type": "markdown",
   "metadata": {},
   "source": [
    "### Creates table for each question"
   ]
  },
  {
   "cell_type": "code",
   "execution_count": 8,
   "metadata": {},
   "outputs": [],
   "source": [
    "# table to answer question 1\n",
    "query1 = \"CREATE TABLE IF NOT EXISTS app_history_session_item\"\n",
    "query1 = query1 + \"(sessionId int, itemInSession int, youtuber text, video text, length text, PRIMARY KEY (sessionId, itemInSession))\"\n",
    "try:\n",
    "    session.execute(query1)\n",
    "except Exception as e:\n",
    "    print(e)\n",
    "\n",
    "# table to answer question 2\n",
    "query2 = \"CREATE TABLE IF NOT EXISTS app_history_user_session \"\n",
    "query2 = query2 + \"(userId int, sessionId int, itemInSession int, youtuber text, video text, firstName text, lastName text, PRIMARY KEY (userId, sessionId, itemInSession))\"\n",
    "try:\n",
    "    session.execute(query2)\n",
    "except Exception as e:\n",
    "    print(e)\n",
    "    \n",
    "# table to answer question 3\n",
    "query3 = \"CREATE TABLE IF NOT EXISTS app_history_video \"\n",
    "query3 = query3 + \"(video text, firstName text, lastName text, PRIMARY KEY (video, firstName, lastName))\"\n",
    "try:\n",
    "    session.execute(query3)\n",
    "except Exception as e:\n",
    "    print(e)"
   ]
  },
  {
   "cell_type": "code",
   "execution_count": 9,
   "metadata": {},
   "outputs": [],
   "source": [
    "# read data from youtube_events_data_new.csv file\n",
    "df = pd.read_csv('youtube_events_data_new.csv')\n",
    "df['userId'] = df['userId'].fillna(0)"
   ]
  },
  {
   "cell_type": "code",
   "execution_count": 10,
   "metadata": {},
   "outputs": [],
   "source": [
    "#insert data into first table\n",
    "query1 = \"INSERT INTO app_history_session_item (sessionId, itemInSession, youtuber, video, length)\"\n",
    "query1 = query1 + \" VALUES (%s, %s, %s, %s, %s)\"\n",
    "\n",
    "for i in range(df.shape[0]):\n",
    "    data = (int(df['sessionId'].loc[i]), int(df['itemInSession'].loc[i]), str(df['youtuber'].loc[i]), str(df['video'].loc[i]), str(df['length'].loc[i]))\n",
    "    try:\n",
    "        session.execute(query1, data)\n",
    "    except Exception as e:\n",
    "        print(e)\n",
    "\n",
    "#insert data into app_history_user_session table\n",
    "query2 = \"INSERT INTO app_history_user_session (userId, sessionId, itemInSession, youtuber, video, firstName, lastName)\"\n",
    "query2 = query2 + \" VALUES (%s, %s, %s, %s, %s, %s, %s)\"\n",
    "\n",
    "for i in range(df.shape[0]):\n",
    "    data = (int(df['userId'].loc[i]), int(df['sessionId'].loc[i]), int(df['itemInSession'].loc[i]), \\\n",
    "            str(df['youtuber'].loc[i]), str(df['video'].loc[i]), str(df['firstName'].loc[i]), str(df['lastName'].loc[i]))\n",
    "    try:\n",
    "        session.execute(query2, data)\n",
    "    except Exception as e:\n",
    "        print(e)\n",
    "        \n",
    "#insert data into app_history_video table\n",
    "query3 = \"INSERT INTO app_history_video (video, firstName, lastName)\"\n",
    "query3 = query3 + \" VALUES (%s, %s, %s)\"\n",
    "\n",
    "for i in range(df.shape[0]):\n",
    "    data = (str(df['video'].loc[i]), str(df['firstName'].loc[i]), str(df['lastName'].loc[i]))\n",
    "    try:\n",
    "        session.execute(query3, data)\n",
    "    except Exception as e:\n",
    "        print(e)"
   ]
  },
  {
   "cell_type": "markdown",
   "metadata": {},
   "source": [
    "### Query 1: <br>\n",
    "Give me the youtuber, video title and video's length in the YouTube app history that was heard during sessionId = 338, and   itemInSession = 4"
   ]
  },
  {
   "cell_type": "code",
   "execution_count": 11,
   "metadata": {},
   "outputs": [
    {
     "name": "stdout",
     "output_type": "stream",
     "text": [
      "Session Id: 338, iteminsession: 4, youtuber: Faithless, video: Music Matters (Mark Knight Dub), length: 495.3073\n"
     ]
    }
   ],
   "source": [
    "try:\n",
    "    rows = session.execute('SELECT * FROM app_history_session_item WHERE sessionId = 338 AND itemInSession = 4')\n",
    "except Exception as e:\n",
    "    print(e)\n",
    "for row in rows:\n",
    "    print ('Session Id: {}, iteminsession: {}, youtuber: {}, video: {}, length: {}'. \\\n",
    "           format(row.sessionid, row.iteminsession, row.youtuber, row.video, row.length))"
   ]
  },
  {
   "cell_type": "markdown",
   "metadata": {},
   "source": [
    "### Query 2: <br>\n",
    "Give me only the following: name of youtuber, video (sorted by itemInSession) and user (first and last name) for userid = 10, sessionid = 182"
   ]
  },
  {
   "cell_type": "code",
   "execution_count": 12,
   "metadata": {},
   "outputs": [
    {
     "name": "stdout",
     "output_type": "stream",
     "text": [
      "youtuber: Down To The Bone, video: Keep On Keepin' On, first name: Sylvie, last name: Cruz\n",
      "youtuber: Three Drives, video: Greece 2000, first name: Sylvie, last name: Cruz\n",
      "youtuber: Sebastien Tellier, video: Kilometer, first name: Sylvie, last name: Cruz\n",
      "youtuber: Lonnie Gordon, video: Catch You Baby (Steve Pitron & Max Sanna Radio Edit), first name: Sylvie, last name: Cruz\n"
     ]
    }
   ],
   "source": [
    "try:\n",
    "    rows = session.execute('SELECT youtuber, video, firstName, lastName FROM app_history_user_session \\\n",
    "                           WHERE userId = 10 AND sessionId = 182')\n",
    "except Exception as e:\n",
    "    print(e)\n",
    "for row in rows:\n",
    "    print ('youtuber: {}, video: {}, first name: {}, last name: {}'. \\\n",
    "           format(row.youtuber, row.video, row.firstname, row.lastname))"
   ]
  },
  {
   "cell_type": "markdown",
   "metadata": {},
   "source": [
    "### Query 3: <br>\n",
    "Give me every user name (first and last) in my YouTube app history who watched the video 'All Hands Against His Own'"
   ]
  },
  {
   "cell_type": "code",
   "execution_count": 13,
   "metadata": {},
   "outputs": [
    {
     "name": "stdout",
     "output_type": "stream",
     "text": [
      "first name: Jacqueline, last name: Lynch\n",
      "first name: Sara, last name: Johnson\n",
      "first name: Tegan, last name: Levine\n"
     ]
    }
   ],
   "source": [
    "try:\n",
    "    rows = session.execute(\"SELECT firstName, lastName FROM app_history_video WHERE video = 'All Hands Against His Own'\")\n",
    "except Exception as e:\n",
    "    print(e)\n",
    "    \n",
    "for row in rows:\n",
    "    print ('first name: {}, last name: {}'. \\\n",
    "           format(row.firstname, row.lastname))"
   ]
  },
  {
   "cell_type": "markdown",
   "metadata": {},
   "source": [
    "### Drop the tables before closing out the sessions"
   ]
  },
  {
   "cell_type": "code",
   "execution_count": 14,
   "metadata": {},
   "outputs": [],
   "source": [
    "query = \"drop table app_history_session_item\"\n",
    "try:\n",
    "    rows = session.execute(query)\n",
    "except Exception as e:\n",
    "    print(e)\n",
    "\n",
    "query = \"drop table app_history_user_session\"\n",
    "try:\n",
    "    rows = session.execute(query)\n",
    "except Exception as e:\n",
    "    print(e)\n",
    "    \n",
    "query = \"drop table app_history_video\"\n",
    "try:\n",
    "    rows = session.execute(query)\n",
    "except Exception as e:\n",
    "    print(e)"
   ]
  },
  {
   "cell_type": "markdown",
   "metadata": {},
   "source": [
    "### Close the session and cluster connection¶"
   ]
  },
  {
   "cell_type": "code",
   "execution_count": 15,
   "metadata": {},
   "outputs": [],
   "source": [
    "session.shutdown()\n",
    "cluster.shutdown()"
   ]
  },
  {
   "cell_type": "code",
   "execution_count": null,
   "metadata": {},
   "outputs": [],
   "source": []
  }
 ],
 "metadata": {
  "kernelspec": {
   "display_name": "Python 3",
   "language": "python",
   "name": "python3"
  },
  "language_info": {
   "codemirror_mode": {
    "name": "ipython",
    "version": 3
   },
   "file_extension": ".py",
   "mimetype": "text/x-python",
   "name": "python",
   "nbconvert_exporter": "python",
   "pygments_lexer": "ipython3",
   "version": "3.7.6"
  }
 },
 "nbformat": 4,
 "nbformat_minor": 2
}
